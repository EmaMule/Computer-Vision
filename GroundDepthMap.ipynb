{
  "cells": [
    {
      "cell_type": "markdown",
      "metadata": {
        "id": "view-in-github",
        "colab_type": "text"
      },
      "source": [
        "<a href=\"https://colab.research.google.com/github/EmaMule/Computer-Vision/blob/main/GroundDepthMap.ipynb\" target=\"_parent\"><img src=\"https://colab.research.google.com/assets/colab-badge.svg\" alt=\"Open In Colab\"/></a>"
      ]
    },
    {
      "cell_type": "markdown",
      "source": [
        "# Imports"
      ],
      "metadata": {
        "id": "t9g5NdnnHMJf"
      }
    },
    {
      "cell_type": "code",
      "execution_count": null,
      "metadata": {
        "id": "rWe2bTeCY8PX"
      },
      "outputs": [],
      "source": [
        "!git clone https://github.com/LiheYoung/Depth-Anything\n",
        "!pip install -q -r /content/Depth-Anything/requirements.txt\n",
        "!pip install -q spaces"
      ]
    },
    {
      "cell_type": "code",
      "execution_count": null,
      "metadata": {
        "colab": {
          "base_uri": "https://localhost:8080/"
        },
        "id": "s5G2lvnaZG8F",
        "outputId": "689a8e8b-fa41-436d-92d2-4e8e46fcb30f"
      },
      "outputs": [
        {
          "output_type": "stream",
          "name": "stdout",
          "text": [
            "/content/Depth-Anything\n"
          ]
        }
      ],
      "source": [
        "cd Depth-Anything"
      ]
    },
    {
      "cell_type": "code",
      "source": [
        "from google.colab import drive\n",
        "\n",
        "\n",
        "from tqdm import tqdm\n",
        "import gc\n",
        "\n",
        "import gradio as gr\n",
        "import cv2\n",
        "import numpy as np\n",
        "import os\n",
        "from PIL import Image\n",
        "import spaces\n",
        "import torch\n",
        "import torch.nn.functional as F\n",
        "from torchvision.transforms import Compose\n",
        "import tempfile\n",
        "from gradio_imageslider import ImageSlider\n",
        "\n",
        "from depth_anything.dpt import DepthAnything\n",
        "from depth_anything.util.transform import Resize, NormalizeImage, PrepareForNet"
      ],
      "metadata": {
        "id": "kFdWfO8hHOi7"
      },
      "execution_count": null,
      "outputs": []
    },
    {
      "cell_type": "code",
      "execution_count": null,
      "metadata": {
        "colab": {
          "base_uri": "https://localhost:8080/"
        },
        "id": "S4Vr70cfWhF_",
        "outputId": "86323855-d338-4ec2-ea5f-f642300e4ec5"
      },
      "outputs": [
        {
          "output_type": "stream",
          "name": "stdout",
          "text": [
            "Mounted at /content/drive\n"
          ]
        }
      ],
      "source": [
        "drive.mount('/content/drive')"
      ]
    },
    {
      "cell_type": "markdown",
      "source": [
        "# Model Creation"
      ],
      "metadata": {
        "id": "sZLs7HdeHwpk"
      }
    },
    {
      "cell_type": "code",
      "execution_count": null,
      "metadata": {
        "id": "tUHsCKx7ZLcV"
      },
      "outputs": [],
      "source": [
        "@spaces.GPU\n",
        "@torch.no_grad()\n",
        "def predict_depth(model, image):\n",
        "    return model(image)\n",
        "\n",
        "\n",
        "def obtain_depth_map(model, transform, img_path):\n",
        "\n",
        "    device = 'cuda' if torch.cuda.is_available() else 'cpu'\n",
        "\n",
        "    image = Image.open(img_path)\n",
        "    image = np.array(image)\n",
        "\n",
        "    original_image = image.copy()\n",
        "\n",
        "    h, w = image.shape[:2]\n",
        "\n",
        "    image = cv2.cvtColor(image, cv2.COLOR_BGR2RGB) / 255.0\n",
        "    image = transform({'image': image})['image']\n",
        "    image = torch.from_numpy(image).unsqueeze(0).to(device)\n",
        "\n",
        "    depth = predict_depth(model, image)\n",
        "    depth = F.interpolate(depth[None], (h, w), mode='bilinear', align_corners=False)[0, 0]\n",
        "\n",
        "    raw_depth = Image.fromarray(depth.cpu().numpy().astype('uint16'))\n",
        "    tmp = tempfile.NamedTemporaryFile(suffix='.png', delete=False)\n",
        "    raw_depth.save(tmp.name)\n",
        "\n",
        "    depth = (depth - depth.min()) / (depth.max() - depth.min()) * 255.0\n",
        "    depth = depth.cpu().numpy().astype(np.uint8)\n",
        "    colored_depth = cv2.applyColorMap(depth, cv2.COLORMAP_INFERNO)[:, :, ::-1]\n",
        "\n",
        "    return colored_depth"
      ]
    },
    {
      "cell_type": "code",
      "execution_count": null,
      "metadata": {
        "id": "yPq8RlhCWiCm"
      },
      "outputs": [],
      "source": [
        "dir_path = \"/content/drive/MyDrive/CV Project/CVUSA/streetview\"\n",
        "image_names = os.listdir(dir_path)\n",
        "\n",
        "image_paths = []\n",
        "for image_name in image_names:\n",
        "    image_path = os.path.join(dir_path, image_name)\n",
        "    image_paths.append(image_path)"
      ]
    },
    {
      "cell_type": "code",
      "execution_count": null,
      "metadata": {
        "id": "qvpfsqdOZM0E"
      },
      "outputs": [],
      "source": [
        "device = 'cuda' if torch.cuda.is_available() else 'cpu'\n",
        "encoder = 'vitl'\n",
        "model = DepthAnything.from_pretrained(f\"LiheYoung/depth_anything_{encoder}14\").to(device).eval()\n",
        "\n",
        "transform = Compose([\n",
        "        Resize(\n",
        "            width=518,\n",
        "            height=518,\n",
        "            resize_target=False,\n",
        "            keep_aspect_ratio=True,\n",
        "            ensure_multiple_of=14,\n",
        "            resize_method='lower_bound',\n",
        "            image_interpolation_method=cv2.INTER_CUBIC,\n",
        "        ),\n",
        "        NormalizeImage(mean=[0.485, 0.456, 0.406], std=[0.229, 0.224, 0.225]),\n",
        "        PrepareForNet(),\n",
        "])"
      ]
    },
    {
      "cell_type": "markdown",
      "metadata": {
        "id": "hgJa2AMBWbOr"
      },
      "source": [
        "# Example"
      ]
    },
    {
      "cell_type": "code",
      "source": [
        "Image.open(image_paths[10])"
      ],
      "metadata": {
        "id": "peiJyhBtIFEy"
      },
      "execution_count": null,
      "outputs": []
    },
    {
      "cell_type": "code",
      "source": [
        "colored_depth = obtain_depth_map(model, transform, image_paths[10])\n",
        "depth_image = Image.fromarray(colored_depth)\n",
        "depth_image"
      ],
      "metadata": {
        "id": "XNvQ13oSIGU-"
      },
      "execution_count": null,
      "outputs": []
    },
    {
      "cell_type": "markdown",
      "source": [
        "# Dataset Creation"
      ],
      "metadata": {
        "id": "wpBnY0rEICf0"
      }
    },
    {
      "cell_type": "code",
      "execution_count": null,
      "metadata": {
        "id": "6Sq2XKQikl9I"
      },
      "outputs": [],
      "source": [
        "target_dir_path = \"/content/drive/MyDrive/CV Project/CVUSA/streetview_depth\"\n",
        "\n",
        "if not os.path.exists(target_dir_path):\n",
        "    os.makedirs(target_dir_path)\n",
        "\n",
        "depth_paths = []\n",
        "for image_name in image_names:\n",
        "    image_path = os.path.join(target_dir_path, image_name)\n",
        "    depth_paths.append(image_path)"
      ]
    },
    {
      "cell_type": "code",
      "execution_count": null,
      "metadata": {
        "id": "OM317-vZZUtO"
      },
      "outputs": [],
      "source": [
        "colored_depths = []\n",
        "for i in tqdm(range(len(image_paths))):\n",
        "    if i % 200 == 0:\n",
        "        gc.collect()\n",
        "        torch.cuda.empty_cache()\n",
        "    if not os.path.exists(depth_paths[i]):\n",
        "        colored_depth = obtain_depth_map(model, transform, image_paths[i])\n",
        "        depth_image = Image.fromarray(colored_depth)\n",
        "        depth_image.save(depth_paths[i])"
      ]
    }
  ],
  "metadata": {
    "accelerator": "GPU",
    "colab": {
      "gpuType": "T4",
      "provenance": [],
      "include_colab_link": true
    },
    "kernelspec": {
      "display_name": "Python 3",
      "name": "python3"
    },
    "language_info": {
      "name": "python"
    }
  },
  "nbformat": 4,
  "nbformat_minor": 0
}